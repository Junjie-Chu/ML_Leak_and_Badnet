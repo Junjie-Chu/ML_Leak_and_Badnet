{
  "cells": [
    {
      "cell_type": "markdown",
      "id": "ae1ace01",
      "metadata": {
        "id": "ae1ace01"
      },
      "source": [
        "# ***This is a simple implement of basic 1st attack introduced in ML-leak article on CIFAR10***"
      ]
    },
    {
      "cell_type": "markdown",
      "source": [
        "## ***General setting code***"
      ],
      "metadata": {
        "id": "Fh5n0HDmt7ex"
      },
      "id": "Fh5n0HDmt7ex"
    },
    {
      "cell_type": "markdown",
      "id": "9faa6e17",
      "metadata": {
        "id": "9faa6e17"
      },
      "source": [
        "### ***Install all independency here***"
      ]
    },
    {
      "cell_type": "code",
      "execution_count": null,
      "id": "4e05b969",
      "metadata": {
        "id": "4e05b969"
      },
      "outputs": [],
      "source": [
        "!pip3 install torch==1.10.2+cpu torchvision==0.11.3+cpu torchaudio==0.10.2+cpu -f https://download.pytorch.org/whl/cpu/torch_stable.html\n",
        "!pip3 install ipywidgets\n",
        "!jupyter nbextension enable --py widgetsnbextension"
      ]
    },
    {
      "cell_type": "markdown",
      "id": "ead3c117",
      "metadata": {
        "id": "ead3c117"
      },
      "source": [
        "### ***Import all dependency here***"
      ]
    },
    {
      "cell_type": "code",
      "execution_count": null,
      "id": "bcfb973c",
      "metadata": {
        "colab": {
          "base_uri": "https://localhost:8080/"
        },
        "id": "bcfb973c",
        "outputId": "18b8dcb0-802e-4dd7-bbfc-45a29134a61d"
      },
      "outputs": [
        {
          "output_type": "stream",
          "name": "stdout",
          "text": [
            "Mounted at /content/drive\n"
          ]
        }
      ],
      "source": [
        "# to monitor the progress\n",
        "from tqdm import tqdm\n",
        "import time\n",
        "# basic dependency\n",
        "import numpy as np\n",
        "import random\n",
        "# pytorch related\n",
        "import torch\n",
        "from torch.utils.data import Dataset\n",
        "from torchvision import datasets\n",
        "from torch import nn\n",
        "from torch.utils.data import DataLoader\n",
        "from torch.utils.data import random_split\n",
        "from torch import optim\n",
        "import torch.nn.functional as F\n",
        "import torchvision.transforms as T\n",
        "# for visulization\n",
        "import matplotlib.pyplot as plt\n",
        "from random import shuffle\n",
        "# sklearn\n",
        "from sklearn.metrics import precision_score, recall_score, f1_score, accuracy_score\n",
        "from sklearn.metrics import precision_recall_fscore_support, accuracy_score\n",
        "# other classifier\n",
        "import lightgbm as lgb\n",
        "# for mount from Colab to my drive\n",
        "from google.colab import drive\n",
        "drive.mount('/content/drive')\n",
        "import os\n",
        "os.chdir('/content/drive/My Drive')"
      ]
    },
    {
      "cell_type": "markdown",
      "source": [
        "## ***Target and shadow model code***"
      ],
      "metadata": {
        "id": "DEedWF9OumTa"
      },
      "id": "DEedWF9OumTa"
    },
    {
      "cell_type": "markdown",
      "id": "6d71553e",
      "metadata": {
        "id": "6d71553e"
      },
      "source": [
        "### ***Define a Neural Network class for shadow and target model***"
      ]
    },
    {
      "cell_type": "code",
      "execution_count": null,
      "id": "3fb175d0",
      "metadata": {
        "id": "3fb175d0"
      },
      "outputs": [],
      "source": [
        "# reuse the NN in badnet\n",
        "class basicNet(nn.Module):\n",
        "\n",
        "    def __init__(self,inputchannels,outputclasses):\n",
        "        super().__init__()\n",
        "        self.conv1 = nn.Conv2d(inputchannels, 16, 5)\n",
        "        self.conv2 = nn.Conv2d(16, 32, 5)\n",
        "        self.pool = nn.AvgPool2d(2)\n",
        "        if inputchannels == 3:\n",
        "          inputfeatures = 800\n",
        "        else:\n",
        "          inputfeatures = 512\n",
        "        self.fc1 = nn.Linear(inputfeatures, 512)\n",
        "        self.fc2 = nn.Linear(512, outputclasses)\n",
        "\n",
        "    def forward(self, x):\n",
        "        # conv block1\n",
        "        x = self.conv1(x)\n",
        "        x = F.relu(x)\n",
        "        x = self.pool(x)\n",
        "        # conv block2\n",
        "        x = self.conv2(x)\n",
        "        x = F.relu(x)\n",
        "        x = self.pool(x)\n",
        "        # reshape(flat) the feature to be the input of full connect layer\n",
        "        x = x.view(-1, self.num_features(x))\n",
        "        # fc block1\n",
        "        x = self.fc1(x)\n",
        "        x = F.relu(x)\n",
        "        # fc block2\n",
        "        x = self.fc2(x)\n",
        "        x = F.softmax(x,dim=-1)\n",
        "        return x\n",
        "\n",
        "    def num_features(self, x):\n",
        "        # size of different dimensions\n",
        "        size_D = x.size()[1:]\n",
        "        total = 1\n",
        "        for i in size_D:\n",
        "            total = total*i\n",
        "        return total"
      ]
    },
    {
      "cell_type": "markdown",
      "id": "7a252906",
      "metadata": {
        "id": "7a252906"
      },
      "source": [
        "### ***Functions for training and evaluating(target/shadow model)***"
      ]
    },
    {
      "cell_type": "code",
      "execution_count": null,
      "id": "13fc66e9",
      "metadata": {
        "id": "13fc66e9"
      },
      "outputs": [],
      "source": [
        "def train(model, dataloader, criterion, opt):\n",
        "    running_loss = 0\n",
        "    # switch to model:train\n",
        "    # no difference here since no dropout and BN\n",
        "    model.train()\n",
        "    count = 0\n",
        "    for i, data in tqdm(enumerate(dataloader)):\n",
        "        opt.zero_grad()\n",
        "        imgs, labels = data\n",
        "        imgs = imgs.to(device)\n",
        "        labels = labels.to(device)\n",
        "        predict = model(imgs)\n",
        "        #print(predict.dtype)\n",
        "        #print(labels.dtype)\n",
        "        loss = criterion(predict, labels)\n",
        "        loss.backward()\n",
        "        opt.step()\n",
        "        count = i\n",
        "        running_loss += loss\n",
        "    return running_loss / count\n",
        "\n",
        "\n",
        "def evaluation(model, dataloader, batch_size=64):\n",
        "    # switch to model:eval\n",
        "    # no difference here since no dropout and BN    \n",
        "    model.eval()\n",
        "    # y_tensorlist is a list consists of some tensors\n",
        "    y_true_tensorlist = []\n",
        "    y_predict_tensorlist = []\n",
        "    for step, (batch_x, batch_y) in enumerate(dataloader):\n",
        "        batch_x,batch_y = batch_x.to(device),batch_y.to(device)\n",
        "        output = model(batch_x)\n",
        "        #print(output.shape)\n",
        "        batch_y_predict = torch.argmax(output, dim=1)\n",
        "        \n",
        "        y_predict_tensorlist.append(batch_y_predict)\n",
        "        \n",
        "        y_true_tensorlist.append(batch_y)\n",
        "        \n",
        "    # combine the tensors in the list into one\n",
        "    y_true = torch.cat(y_true_tensorlist,0)\n",
        "    y_predict = torch.cat(y_predict_tensorlist,0)\n",
        "\n",
        "    # compute accuracy\n",
        "    length = len(y_true)\n",
        "    right_length = torch.sum(y_true == y_predict)\n",
        "    #print(right_length/length)\n",
        "    \n",
        "    return right_length/length"
      ]
    },
    {
      "cell_type": "markdown",
      "source": [
        "## ***Attack model's dataset code***"
      ],
      "metadata": {
        "id": "_nlM-pvGTSft"
      },
      "id": "_nlM-pvGTSft"
    },
    {
      "cell_type": "markdown",
      "source": [
        "### ***Functions used to create attack model's dataset***"
      ],
      "metadata": {
        "id": "t5w08voru7pz"
      },
      "id": "t5w08voru7pz"
    },
    {
      "cell_type": "code",
      "source": [
        "def attackdataset_x_1_batch(shadow,batch_x,device):\n",
        "    shadow.eval()\n",
        "    # Aim to get features(x)\n",
        "    # output of model shadow is probabilities\n",
        "    batch_y = shadow(batch_x.to(device))\n",
        "    sorted_prob,_ = torch.sort(batch_y,descending=True)\n",
        "    #print(sorted_prob.shape)\n",
        "\n",
        "    # choose 3 highest probabilities as feature vector\n",
        "    # This is a batch's output, not single image.\n",
        "    # feature: x, x is already a tensor\n",
        "    feature_vectors = torch.narrow(sorted_prob,dim=1,start=0,length=3)\n",
        "\n",
        "    return feature_vectors\n",
        "\n",
        "def get_attackdataset(shadow,train_loader,out_loader,device):\n",
        "    shadow.eval()\n",
        "    # 1. get a tensor list of x\n",
        "    # 2. combine all tensors in tensor list x into a tensor X\n",
        "    # 3. generate label tensor Y, the length is the same as X\n",
        "    attack_set=[]\n",
        "\n",
        "    attack_X_train_list = []\n",
        "    for i, (batch_x, batch_y) in enumerate(train_loader):\n",
        "        batch_x = batch_x.to(device)\n",
        "        batch_y = batch_y.to(device)\n",
        "        feature_vectors = attackdataset_x_1_batch(shadow,batch_x,device=device)\n",
        "        attack_X_train_list.append(feature_vectors)\n",
        "    attack_X_train = torch.cat(attack_X_train_list,0)\n",
        "    print(len(attack_X_train))\n",
        "    for i in attack_X_train:\n",
        "      attack_set.append((i.detach(),torch.ones(1)))\n",
        "\n",
        "    # train:label = 1\n",
        "    #attack_Y_train = torch.ones(attack_X_train.shape[0])\n",
        "    #print('attack Y train shape: ',attack_Y_train.shape)\n",
        "\n",
        "    attack_X_out_list = []\n",
        "    for i, (batch_x, batch_y) in enumerate(out_loader):\n",
        "        feature_vectors = attackdataset_x_1_batch(shadow,batch_x,device=device)\n",
        "        attack_X_out_list.append(feature_vectors)\n",
        "    attack_X_out = torch.cat(attack_X_out_list,0)\n",
        "    print(len(attack_X_out))\n",
        "    for i in attack_X_out:\n",
        "      attack_set.append((i.detach(),torch.zeros(1)))\n",
        "    # out: label = 0\n",
        "    #attack_Y_out = torch.zeros(attack_X_out.shape[0])\n",
        "    #print('attack Y out shape: ',attack_Y_out.shape)\n",
        "\n",
        "    # combine train and out to get the whole dataset's X and Y\n",
        "    #attack_X = torch.cat([attack_X_train,attack_X_out],0)\n",
        "    #attack_Y = torch.cat([attack_Y_train,attack_Y_out],0)\n",
        "    #print('attack X total shape: ',attack_X.shape)\n",
        "    #return attack_X.detach(),attack_Y\n",
        "    shuffle(attack_set)\n",
        "    # check first 10 elements\n",
        "    print('- - - - - - - - - ')\n",
        "    print('num of data ')\n",
        "    print(len(attack_set))\n",
        "    print('- - - - - - - - - ')\n",
        "    print('first 10 elements ')\n",
        "    print(attack_set[0:9])\n",
        "    return attack_set"
      ],
      "metadata": {
        "id": "G2I1HeglTt-y"
      },
      "id": "G2I1HeglTt-y",
      "execution_count": null,
      "outputs": []
    },
    {
      "cell_type": "markdown",
      "source": [
        "### ***Define attack model's dataset class***"
      ],
      "metadata": {
        "id": "lbW2B9MH32bc"
      },
      "id": "lbW2B9MH32bc"
    },
    {
      "cell_type": "code",
      "source": [
        "class attack_dataset(Dataset):\n",
        "    # N data points, features include N top 3 probabilities, labels include N labels(1/0)\n",
        "    # elements in features and labels are already tensor.\n",
        "    def __init__(self, attack_set, transform = None, device=torch.device(\"cpu\")):\n",
        "        self.attack_set = attack_set\n",
        "        self.device = device\n",
        "        self.transform = transform\n",
        "\n",
        "    def __getitem__(self, item):\n",
        "        # extract x,y , x,y are all tensors\n",
        "        x = self.attack_set[item][0]\n",
        "        y = self.attack_set[item][1]\n",
        "        # send x,y to device\n",
        "        x = x.to(self.device)\n",
        "        y = y.to(self.device)\n",
        "        \n",
        "        return x, y\n",
        "\n",
        "    def __len__(self):\n",
        "        return len(self.attack_set)"
      ],
      "metadata": {
        "id": "qTBHu9vf31pL"
      },
      "id": "qTBHu9vf31pL",
      "execution_count": null,
      "outputs": []
    },
    {
      "cell_type": "markdown",
      "id": "11e939a8",
      "metadata": {
        "id": "11e939a8"
      },
      "source": [
        "## ***Main part***"
      ]
    },
    {
      "cell_type": "markdown",
      "source": [
        "### ***CIFAR10***"
      ],
      "metadata": {
        "id": "WGB65vV3J39-"
      },
      "id": "WGB65vV3J39-"
    },
    {
      "cell_type": "markdown",
      "source": [
        "#### *Download, split and load data*"
      ],
      "metadata": {
        "id": "s4m6DkJVeKw3"
      },
      "id": "s4m6DkJVeKw3"
    },
    {
      "cell_type": "code",
      "execution_count": null,
      "id": "563a1486",
      "metadata": {
        "colab": {
          "base_uri": "https://localhost:8080/",
          "height": 104,
          "referenced_widgets": [
            "5e4a4cb0d9454cb381ec8ebd07e6c76a",
            "144b56abae214808890ce5a287c32ad2",
            "bd597b09946b40589de7332e6c19c2f5",
            "7798933ce63349cdb643d37a290feb52",
            "bf1f6cfa29eb4b2e81cc524faf09b3cc",
            "1d70199cce304db59661499002c96db8",
            "c1484f209b9e4559aa96ef1b92189447",
            "ed0723266d794b299d962991c8e47f72",
            "393a164745ce48a8aea14eb751cbb3f9",
            "c87e422d584e4881bd4b8341b58bc632",
            "614681074c3440de919de9875cdf0bd4"
          ]
        },
        "id": "563a1486",
        "outputId": "5e8069b3-f933-4a6a-b202-26436a3b5378"
      },
      "outputs": [
        {
          "output_type": "stream",
          "name": "stdout",
          "text": [
            "Downloading https://www.cs.toronto.edu/~kriz/cifar-10-python.tar.gz to ./data_1/cifar-10-python.tar.gz\n"
          ]
        },
        {
          "output_type": "display_data",
          "data": {
            "application/vnd.jupyter.widget-view+json": {
              "model_id": "5e4a4cb0d9454cb381ec8ebd07e6c76a",
              "version_minor": 0,
              "version_major": 2
            },
            "text/plain": [
              "  0%|          | 0/170498071 [00:00<?, ?it/s]"
            ]
          },
          "metadata": {}
        },
        {
          "output_type": "stream",
          "name": "stdout",
          "text": [
            "Extracting ./data_1/cifar-10-python.tar.gz to ./data_1/\n",
            "Files already downloaded and verified\n"
          ]
        }
      ],
      "source": [
        "# prepare original data\n",
        "transforms = T.Compose([T.ToTensor(),T.Normalize((0.4914, 0.4822, 0.4465), (0.247, 0.243, 0.261))])\n",
        "train_data_CIFAR10 = datasets.CIFAR10(root=\"./data_1/\", train=True,transform=transforms, download=True)\n",
        "test_data_CIFAR10 = datasets.CIFAR10(root=\"./data_1/\",train=False,transform=transforms, download=True)"
      ]
    },
    {
      "cell_type": "code",
      "source": [
        "# set the length of each split\n",
        "length_train_data_CIFAR10 = len(train_data_CIFAR10)\n",
        "lengthlist = [int(0.25*length_train_data_CIFAR10),int(0.25*length_train_data_CIFAR10),int(0.25*length_train_data_CIFAR10),int(0.25*length_train_data_CIFAR10)]\n",
        "print(length_train_data_CIFAR10)\n",
        "print(lengthlist)"
      ],
      "metadata": {
        "colab": {
          "base_uri": "https://localhost:8080/"
        },
        "id": "lmKZJtProrf0",
        "outputId": "0db5c6a2-0817-4f81-ca37-4145ac78095c"
      },
      "id": "lmKZJtProrf0",
      "execution_count": null,
      "outputs": [
        {
          "output_type": "stream",
          "name": "stdout",
          "text": [
            "50000\n",
            "[12500, 12500, 12500, 12500]\n"
          ]
        }
      ]
    },
    {
      "cell_type": "code",
      "execution_count": null,
      "id": "5db0677d",
      "metadata": {
        "id": "5db0677d"
      },
      "outputs": [],
      "source": [
        "# CIFAR10\n",
        "# split the dataset into 4 part: target train/out, shadow train/out\n",
        "train_target_dataset_CIFAR10,out_target_dataset_CIFAR10,train_shadow_dataset_CIFAR10,out_shadow_dataset_CIFAR10 = random_split(\n",
        "    dataset=train_data_CIFAR10,\n",
        "    lengths=lengthlist,\n",
        "    generator=torch.Generator().manual_seed(19260817)\n",
        ")\n",
        "# This is the main dataloader with the total dataset\n",
        "target_train_loader = DataLoader(dataset=train_target_dataset_CIFAR10, batch_size=64, shuffle = True)\n",
        "target_out_loader = DataLoader(dataset=out_target_dataset_CIFAR10, batch_size=64, shuffle = True)\n",
        "\n",
        "shadow_train_loader = DataLoader(dataset=train_shadow_dataset_CIFAR10, batch_size=64, shuffle = True)\n",
        "shadow_out_loader = DataLoader(dataset=out_shadow_dataset_CIFAR10, batch_size=64, shuffle = True)\n",
        "\n",
        "testloader = DataLoader(dataset=test_data_CIFAR10, batch_size=64, shuffle = True)\n"
      ]
    },
    {
      "cell_type": "markdown",
      "source": [
        "#### *Pretrain target and shadow models*"
      ],
      "metadata": {
        "id": "UxsZSRDMX4Km"
      },
      "id": "UxsZSRDMX4Km"
    },
    {
      "cell_type": "code",
      "source": [
        "# use train_target to train target model\n",
        "# no gpu, thus device is only cpu\n",
        "device = torch.device('cuda' if torch.cuda.is_available() else 'cpu')\n",
        "# Train target\n",
        "# load model\n",
        "# if use MNIST, inputchannels=1, if use CIFAR10, inputchannels=3, both output classes = 10\n",
        "# related info could be get by using input_channels=train_data_loader.dataset.channels, output_num=train_data_loader.dataset.class_num\n",
        "target = basicNet(inputchannels=3, outputclasses=10).to(device)\n",
        "# settings\n",
        "criterion = nn.CrossEntropyLoss()\n",
        "sgd = optim.SGD(target.parameters(), lr=0.01, momentum=0.9)\n",
        "epoch = 50\n",
        "\n",
        "# train\n",
        "print(\"start training: \")\n",
        "for i in range(epoch):\n",
        "    loss_train = train(target, target_train_loader, criterion, sgd)\n",
        "    # Acc\n",
        "    acc_train = evaluation(target, target_train_loader, batch_size=64)\n",
        "    acc_test = evaluation(target, testloader, batch_size=64)\n",
        "    print(\"epoch%d   loss: %.5f  training accuracy: %.5f  testing accuracy: %.5f\"\\\n",
        "      % (i, loss_train, acc_train, acc_test))\n",
        "torch.save(target.state_dict(), \"./models/target_CIFAR10.pth\")"
      ],
      "metadata": {
        "colab": {
          "base_uri": "https://localhost:8080/"
        },
        "id": "o87ufHdBvU1o",
        "outputId": "a77195ad-84b1-416e-e3f4-383cd4ce9f30"
      },
      "id": "o87ufHdBvU1o",
      "execution_count": null,
      "outputs": [
        {
          "output_type": "stream",
          "name": "stdout",
          "text": [
            "start training: \n"
          ]
        },
        {
          "output_type": "stream",
          "name": "stderr",
          "text": [
            "196it [00:04, 44.47it/s]\n"
          ]
        },
        {
          "output_type": "stream",
          "name": "stdout",
          "text": [
            "epoch0   loss: 2.30894  training accuracy: 0.11344  testing accuracy: 0.11660\n"
          ]
        },
        {
          "output_type": "stream",
          "name": "stderr",
          "text": [
            "196it [00:04, 44.99it/s]\n"
          ]
        },
        {
          "output_type": "stream",
          "name": "stdout",
          "text": [
            "epoch1   loss: 2.24300  training accuracy: 0.26384  testing accuracy: 0.26410\n"
          ]
        },
        {
          "output_type": "stream",
          "name": "stderr",
          "text": [
            "196it [00:04, 44.70it/s]\n"
          ]
        },
        {
          "output_type": "stream",
          "name": "stdout",
          "text": [
            "epoch2   loss: 2.17662  training accuracy: 0.31312  testing accuracy: 0.31880\n"
          ]
        },
        {
          "output_type": "stream",
          "name": "stderr",
          "text": [
            "196it [00:04, 44.23it/s]\n"
          ]
        },
        {
          "output_type": "stream",
          "name": "stdout",
          "text": [
            "epoch3   loss: 2.15221  training accuracy: 0.32512  testing accuracy: 0.32150\n"
          ]
        },
        {
          "output_type": "stream",
          "name": "stderr",
          "text": [
            "196it [00:04, 44.65it/s]\n"
          ]
        },
        {
          "output_type": "stream",
          "name": "stdout",
          "text": [
            "epoch4   loss: 2.13250  training accuracy: 0.34776  testing accuracy: 0.33840\n"
          ]
        },
        {
          "output_type": "stream",
          "name": "stderr",
          "text": [
            "196it [00:04, 45.37it/s]\n"
          ]
        },
        {
          "output_type": "stream",
          "name": "stdout",
          "text": [
            "epoch5   loss: 2.11276  training accuracy: 0.36648  testing accuracy: 0.35830\n"
          ]
        },
        {
          "output_type": "stream",
          "name": "stderr",
          "text": [
            "196it [00:04, 45.40it/s]\n"
          ]
        },
        {
          "output_type": "stream",
          "name": "stdout",
          "text": [
            "epoch6   loss: 2.09500  training accuracy: 0.40312  testing accuracy: 0.39010\n"
          ]
        },
        {
          "output_type": "stream",
          "name": "stderr",
          "text": [
            "196it [00:04, 45.20it/s]\n"
          ]
        },
        {
          "output_type": "stream",
          "name": "stdout",
          "text": [
            "epoch7   loss: 2.07693  training accuracy: 0.41144  testing accuracy: 0.38890\n"
          ]
        },
        {
          "output_type": "stream",
          "name": "stderr",
          "text": [
            "196it [00:04, 45.09it/s]\n"
          ]
        },
        {
          "output_type": "stream",
          "name": "stdout",
          "text": [
            "epoch8   loss: 2.05741  training accuracy: 0.41920  testing accuracy: 0.39690\n"
          ]
        },
        {
          "output_type": "stream",
          "name": "stderr",
          "text": [
            "196it [00:04, 45.22it/s]\n"
          ]
        },
        {
          "output_type": "stream",
          "name": "stdout",
          "text": [
            "epoch9   loss: 2.04613  training accuracy: 0.43952  testing accuracy: 0.41280\n"
          ]
        },
        {
          "output_type": "stream",
          "name": "stderr",
          "text": [
            "196it [00:04, 39.99it/s]\n"
          ]
        },
        {
          "output_type": "stream",
          "name": "stdout",
          "text": [
            "epoch10   loss: 2.02839  training accuracy: 0.46664  testing accuracy: 0.43720\n"
          ]
        },
        {
          "output_type": "stream",
          "name": "stderr",
          "text": [
            "196it [00:04, 44.54it/s]\n"
          ]
        },
        {
          "output_type": "stream",
          "name": "stdout",
          "text": [
            "epoch11   loss: 2.01311  training accuracy: 0.46792  testing accuracy: 0.44040\n"
          ]
        },
        {
          "output_type": "stream",
          "name": "stderr",
          "text": [
            "196it [00:04, 45.14it/s]\n"
          ]
        },
        {
          "output_type": "stream",
          "name": "stdout",
          "text": [
            "epoch12   loss: 2.00394  training accuracy: 0.49168  testing accuracy: 0.45600\n"
          ]
        },
        {
          "output_type": "stream",
          "name": "stderr",
          "text": [
            "196it [00:04, 44.81it/s]\n"
          ]
        },
        {
          "output_type": "stream",
          "name": "stdout",
          "text": [
            "epoch13   loss: 1.98647  training accuracy: 0.50032  testing accuracy: 0.45020\n"
          ]
        },
        {
          "output_type": "stream",
          "name": "stderr",
          "text": [
            "196it [00:04, 44.86it/s]\n"
          ]
        },
        {
          "output_type": "stream",
          "name": "stdout",
          "text": [
            "epoch14   loss: 1.97280  training accuracy: 0.51880  testing accuracy: 0.46140\n"
          ]
        },
        {
          "output_type": "stream",
          "name": "stderr",
          "text": [
            "196it [00:04, 45.46it/s]\n"
          ]
        },
        {
          "output_type": "stream",
          "name": "stdout",
          "text": [
            "epoch15   loss: 1.96752  training accuracy: 0.50672  testing accuracy: 0.45310\n"
          ]
        },
        {
          "output_type": "stream",
          "name": "stderr",
          "text": [
            "196it [00:04, 45.09it/s]\n"
          ]
        },
        {
          "output_type": "stream",
          "name": "stdout",
          "text": [
            "epoch16   loss: 1.95141  training accuracy: 0.51840  testing accuracy: 0.45200\n"
          ]
        },
        {
          "output_type": "stream",
          "name": "stderr",
          "text": [
            "196it [00:04, 45.26it/s]\n"
          ]
        },
        {
          "output_type": "stream",
          "name": "stdout",
          "text": [
            "epoch17   loss: 1.94426  training accuracy: 0.56016  testing accuracy: 0.48350\n"
          ]
        },
        {
          "output_type": "stream",
          "name": "stderr",
          "text": [
            "196it [00:04, 45.63it/s]\n"
          ]
        },
        {
          "output_type": "stream",
          "name": "stdout",
          "text": [
            "epoch18   loss: 1.93371  training accuracy: 0.55808  testing accuracy: 0.48740\n"
          ]
        },
        {
          "output_type": "stream",
          "name": "stderr",
          "text": [
            "196it [00:04, 45.48it/s]\n"
          ]
        },
        {
          "output_type": "stream",
          "name": "stdout",
          "text": [
            "epoch19   loss: 1.92202  training accuracy: 0.55416  testing accuracy: 0.47550\n"
          ]
        },
        {
          "output_type": "stream",
          "name": "stderr",
          "text": [
            "196it [00:04, 44.80it/s]\n"
          ]
        },
        {
          "output_type": "stream",
          "name": "stdout",
          "text": [
            "epoch20   loss: 1.91286  training accuracy: 0.58936  testing accuracy: 0.49150\n"
          ]
        },
        {
          "output_type": "stream",
          "name": "stderr",
          "text": [
            "196it [00:04, 45.33it/s]\n"
          ]
        },
        {
          "output_type": "stream",
          "name": "stdout",
          "text": [
            "epoch21   loss: 1.89764  training accuracy: 0.60064  testing accuracy: 0.49140\n"
          ]
        },
        {
          "output_type": "stream",
          "name": "stderr",
          "text": [
            "196it [00:04, 44.95it/s]\n"
          ]
        },
        {
          "output_type": "stream",
          "name": "stdout",
          "text": [
            "epoch22   loss: 1.89034  training accuracy: 0.60176  testing accuracy: 0.49580\n"
          ]
        },
        {
          "output_type": "stream",
          "name": "stderr",
          "text": [
            "196it [00:04, 44.82it/s]\n"
          ]
        },
        {
          "output_type": "stream",
          "name": "stdout",
          "text": [
            "epoch23   loss: 1.88122  training accuracy: 0.60584  testing accuracy: 0.50080\n"
          ]
        },
        {
          "output_type": "stream",
          "name": "stderr",
          "text": [
            "196it [00:04, 45.25it/s]\n"
          ]
        },
        {
          "output_type": "stream",
          "name": "stdout",
          "text": [
            "epoch24   loss: 1.86893  training accuracy: 0.62864  testing accuracy: 0.50580\n"
          ]
        },
        {
          "output_type": "stream",
          "name": "stderr",
          "text": [
            "196it [00:04, 45.58it/s]\n"
          ]
        },
        {
          "output_type": "stream",
          "name": "stdout",
          "text": [
            "epoch25   loss: 1.85483  training accuracy: 0.63648  testing accuracy: 0.49970\n"
          ]
        },
        {
          "output_type": "stream",
          "name": "stderr",
          "text": [
            "196it [00:04, 45.27it/s]\n"
          ]
        },
        {
          "output_type": "stream",
          "name": "stdout",
          "text": [
            "epoch26   loss: 1.85217  training accuracy: 0.64360  testing accuracy: 0.50270\n"
          ]
        },
        {
          "output_type": "stream",
          "name": "stderr",
          "text": [
            "196it [00:04, 45.68it/s]\n"
          ]
        },
        {
          "output_type": "stream",
          "name": "stdout",
          "text": [
            "epoch27   loss: 1.83590  training accuracy: 0.66072  testing accuracy: 0.50400\n"
          ]
        },
        {
          "output_type": "stream",
          "name": "stderr",
          "text": [
            "196it [00:04, 44.85it/s]\n"
          ]
        },
        {
          "output_type": "stream",
          "name": "stdout",
          "text": [
            "epoch28   loss: 1.82907  training accuracy: 0.65888  testing accuracy: 0.50400\n"
          ]
        },
        {
          "output_type": "stream",
          "name": "stderr",
          "text": [
            "196it [00:04, 45.36it/s]\n"
          ]
        },
        {
          "output_type": "stream",
          "name": "stdout",
          "text": [
            "epoch29   loss: 1.81507  training accuracy: 0.67688  testing accuracy: 0.51200\n"
          ]
        },
        {
          "output_type": "stream",
          "name": "stderr",
          "text": [
            "196it [00:04, 45.28it/s]\n"
          ]
        },
        {
          "output_type": "stream",
          "name": "stdout",
          "text": [
            "epoch30   loss: 1.80915  training accuracy: 0.65872  testing accuracy: 0.49800\n"
          ]
        },
        {
          "output_type": "stream",
          "name": "stderr",
          "text": [
            "196it [00:04, 45.01it/s]\n"
          ]
        },
        {
          "output_type": "stream",
          "name": "stdout",
          "text": [
            "epoch31   loss: 1.79908  training accuracy: 0.70392  testing accuracy: 0.51440\n"
          ]
        },
        {
          "output_type": "stream",
          "name": "stderr",
          "text": [
            "196it [00:04, 44.96it/s]\n"
          ]
        },
        {
          "output_type": "stream",
          "name": "stdout",
          "text": [
            "epoch32   loss: 1.78585  training accuracy: 0.71040  testing accuracy: 0.51170\n"
          ]
        },
        {
          "output_type": "stream",
          "name": "stderr",
          "text": [
            "196it [00:04, 45.74it/s]\n"
          ]
        },
        {
          "output_type": "stream",
          "name": "stdout",
          "text": [
            "epoch33   loss: 1.77536  training accuracy: 0.69568  testing accuracy: 0.50550\n"
          ]
        },
        {
          "output_type": "stream",
          "name": "stderr",
          "text": [
            "196it [00:04, 45.64it/s]\n"
          ]
        },
        {
          "output_type": "stream",
          "name": "stdout",
          "text": [
            "epoch34   loss: 1.76820  training accuracy: 0.71840  testing accuracy: 0.51070\n"
          ]
        },
        {
          "output_type": "stream",
          "name": "stderr",
          "text": [
            "196it [00:04, 45.08it/s]\n"
          ]
        },
        {
          "output_type": "stream",
          "name": "stdout",
          "text": [
            "epoch35   loss: 1.75589  training accuracy: 0.71736  testing accuracy: 0.50540\n"
          ]
        },
        {
          "output_type": "stream",
          "name": "stderr",
          "text": [
            "196it [00:04, 45.66it/s]\n"
          ]
        },
        {
          "output_type": "stream",
          "name": "stdout",
          "text": [
            "epoch36   loss: 1.75601  training accuracy: 0.73112  testing accuracy: 0.51060\n"
          ]
        },
        {
          "output_type": "stream",
          "name": "stderr",
          "text": [
            "196it [00:04, 45.94it/s]\n"
          ]
        },
        {
          "output_type": "stream",
          "name": "stdout",
          "text": [
            "epoch37   loss: 1.74123  training accuracy: 0.74464  testing accuracy: 0.51040\n"
          ]
        },
        {
          "output_type": "stream",
          "name": "stderr",
          "text": [
            "196it [00:04, 45.04it/s]\n"
          ]
        },
        {
          "output_type": "stream",
          "name": "stdout",
          "text": [
            "epoch38   loss: 1.73298  training accuracy: 0.75800  testing accuracy: 0.51680\n"
          ]
        },
        {
          "output_type": "stream",
          "name": "stderr",
          "text": [
            "196it [00:04, 45.58it/s]\n"
          ]
        },
        {
          "output_type": "stream",
          "name": "stdout",
          "text": [
            "epoch39   loss: 1.73184  training accuracy: 0.76152  testing accuracy: 0.51950\n"
          ]
        },
        {
          "output_type": "stream",
          "name": "stderr",
          "text": [
            "196it [00:04, 45.87it/s]\n"
          ]
        },
        {
          "output_type": "stream",
          "name": "stdout",
          "text": [
            "epoch40   loss: 1.72442  training accuracy: 0.75840  testing accuracy: 0.51700\n"
          ]
        },
        {
          "output_type": "stream",
          "name": "stderr",
          "text": [
            "196it [00:04, 45.76it/s]\n"
          ]
        },
        {
          "output_type": "stream",
          "name": "stdout",
          "text": [
            "epoch41   loss: 1.71502  training accuracy: 0.77448  testing accuracy: 0.50960\n"
          ]
        },
        {
          "output_type": "stream",
          "name": "stderr",
          "text": [
            "196it [00:04, 45.69it/s]\n"
          ]
        },
        {
          "output_type": "stream",
          "name": "stdout",
          "text": [
            "epoch42   loss: 1.71092  training accuracy: 0.77208  testing accuracy: 0.51680\n"
          ]
        },
        {
          "output_type": "stream",
          "name": "stderr",
          "text": [
            "196it [00:04, 45.45it/s]\n"
          ]
        },
        {
          "output_type": "stream",
          "name": "stdout",
          "text": [
            "epoch43   loss: 1.69994  training accuracy: 0.77632  testing accuracy: 0.51910\n"
          ]
        },
        {
          "output_type": "stream",
          "name": "stderr",
          "text": [
            "196it [00:04, 45.62it/s]\n"
          ]
        },
        {
          "output_type": "stream",
          "name": "stdout",
          "text": [
            "epoch44   loss: 1.69589  training accuracy: 0.78696  testing accuracy: 0.51460\n"
          ]
        },
        {
          "output_type": "stream",
          "name": "stderr",
          "text": [
            "196it [00:04, 44.90it/s]\n"
          ]
        },
        {
          "output_type": "stream",
          "name": "stdout",
          "text": [
            "epoch45   loss: 1.69324  training accuracy: 0.78712  testing accuracy: 0.51000\n"
          ]
        },
        {
          "output_type": "stream",
          "name": "stderr",
          "text": [
            "196it [00:04, 44.43it/s]\n"
          ]
        },
        {
          "output_type": "stream",
          "name": "stdout",
          "text": [
            "epoch46   loss: 1.68947  training accuracy: 0.78568  testing accuracy: 0.51860\n"
          ]
        },
        {
          "output_type": "stream",
          "name": "stderr",
          "text": [
            "196it [00:04, 44.74it/s]\n"
          ]
        },
        {
          "output_type": "stream",
          "name": "stdout",
          "text": [
            "epoch47   loss: 1.69022  training accuracy: 0.79344  testing accuracy: 0.51840\n"
          ]
        },
        {
          "output_type": "stream",
          "name": "stderr",
          "text": [
            "196it [00:04, 44.31it/s]\n"
          ]
        },
        {
          "output_type": "stream",
          "name": "stdout",
          "text": [
            "epoch48   loss: 1.68164  training accuracy: 0.80072  testing accuracy: 0.51970\n"
          ]
        },
        {
          "output_type": "stream",
          "name": "stderr",
          "text": [
            "196it [00:04, 43.76it/s]\n"
          ]
        },
        {
          "output_type": "stream",
          "name": "stdout",
          "text": [
            "epoch49   loss: 1.67669  training accuracy: 0.79688  testing accuracy: 0.52370\n"
          ]
        }
      ]
    },
    {
      "cell_type": "code",
      "source": [
        "# use train_shadow to train shadow model\n",
        "# no gpu, thus device is only cpu\n",
        "device = torch.device('cuda' if torch.cuda.is_available() else 'cpu')\n",
        "# Train shadow\n",
        "# load model\n",
        "# if use MNIST, inputchannels=1, if use CIFAR10, inputchannels=3, both output classes = 10\n",
        "# related info could be get by using input_channels=train_data_loader.dataset.channels, output_num=train_data_loader.dataset.class_num\n",
        "shadow = basicNet(inputchannels=3, outputclasses=10).to(device)\n",
        "# settings\n",
        "criterion = nn.CrossEntropyLoss()\n",
        "sgd = optim.SGD(shadow.parameters(), lr=0.01, momentum=0.9)\n",
        "epoch = 50\n",
        "\n",
        "# train\n",
        "print(\"start training: \")\n",
        "for i in range(epoch):\n",
        "    loss_train = train(shadow, shadow_train_loader, criterion, sgd)\n",
        "# Acc\n",
        "acc_train = evaluation(shadow, shadow_train_loader, batch_size=64)\n",
        "acc_test = evaluation(shadow, testloader, batch_size=64)\n",
        "print(\"epoch%d   loss: %.5f  training accuracy: %.5f  testing accuracy: %.5f\"\\\n",
        "      % (epoch, loss_train, acc_train, acc_test))\n",
        "torch.save(shadow.state_dict(), \"./models/shadow_CIFAR10.pth\")"
      ],
      "metadata": {
        "id": "-C08BexDw0Za",
        "colab": {
          "base_uri": "https://localhost:8080/"
        },
        "outputId": "d3d3646d-3e26-4e3e-d06d-9977e4939035"
      },
      "id": "-C08BexDw0Za",
      "execution_count": null,
      "outputs": [
        {
          "output_type": "stream",
          "name": "stdout",
          "text": [
            "start training: \n"
          ]
        },
        {
          "output_type": "stream",
          "name": "stderr",
          "text": [
            "196it [00:04, 44.19it/s]\n",
            "196it [00:04, 43.58it/s]\n",
            "196it [00:04, 45.03it/s]\n",
            "196it [00:04, 44.42it/s]\n",
            "196it [00:04, 45.00it/s]\n",
            "196it [00:04, 45.05it/s]\n",
            "196it [00:04, 45.05it/s]\n",
            "196it [00:04, 45.52it/s]\n",
            "196it [00:04, 44.96it/s]\n",
            "196it [00:04, 44.66it/s]\n",
            "196it [00:04, 45.12it/s]\n",
            "196it [00:04, 44.40it/s]\n",
            "196it [00:04, 45.22it/s]\n",
            "196it [00:04, 44.90it/s]\n",
            "196it [00:04, 45.25it/s]\n",
            "196it [00:04, 43.88it/s]\n",
            "196it [00:04, 44.68it/s]\n",
            "196it [00:04, 44.04it/s]\n",
            "196it [00:04, 44.75it/s]\n",
            "196it [00:04, 44.66it/s]\n",
            "196it [00:04, 43.79it/s]\n",
            "196it [00:04, 44.82it/s]\n",
            "196it [00:04, 43.51it/s]\n",
            "196it [00:04, 44.52it/s]\n",
            "196it [00:04, 43.63it/s]\n",
            "196it [00:04, 44.51it/s]\n",
            "196it [00:04, 44.24it/s]\n",
            "196it [00:04, 44.55it/s]\n",
            "196it [00:04, 44.76it/s]\n",
            "196it [00:04, 44.47it/s]\n",
            "196it [00:04, 43.85it/s]\n",
            "196it [00:04, 45.20it/s]\n",
            "196it [00:04, 45.58it/s]\n",
            "196it [00:04, 45.55it/s]\n",
            "196it [00:04, 45.46it/s]\n",
            "196it [00:04, 45.08it/s]\n",
            "196it [00:04, 45.60it/s]\n",
            "196it [00:04, 45.32it/s]\n",
            "196it [00:04, 45.21it/s]\n",
            "196it [00:04, 44.56it/s]\n",
            "196it [00:04, 45.16it/s]\n",
            "196it [00:04, 44.51it/s]\n",
            "196it [00:04, 45.23it/s]\n",
            "196it [00:04, 45.29it/s]\n",
            "196it [00:04, 44.99it/s]\n",
            "196it [00:04, 44.95it/s]\n",
            "196it [00:04, 46.15it/s]\n",
            "196it [00:04, 45.89it/s]\n",
            "196it [00:04, 44.62it/s]\n",
            "196it [00:04, 45.53it/s]\n"
          ]
        },
        {
          "output_type": "stream",
          "name": "stdout",
          "text": [
            "epoch50   loss: 1.66223  training accuracy: 0.81624  testing accuracy: 0.52080\n"
          ]
        }
      ]
    },
    {
      "cell_type": "markdown",
      "source": [
        "#### *Load pretrained target and shadow models (to save time)*"
      ],
      "metadata": {
        "id": "7h_K6vlPYDNi"
      },
      "id": "7h_K6vlPYDNi"
    },
    {
      "cell_type": "code",
      "source": [
        "# no gpu, thus device is only cpu\n",
        "device = torch.device('cuda' if torch.cuda.is_available() else 'cpu')\n",
        "# load pretrained model\n",
        "target_pre = basicNet(inputchannels=3, outputclasses=10).to(device)\n",
        "# if gpu, remove map_location=torch.device('cpu')\n",
        "target_pre.load_state_dict(torch.load(\"./models/target_CIFAR10.pth\",map_location=torch.device('cpu')))\n",
        "target_pre.eval()\n",
        "shadow_pre = basicNet(inputchannels=3, outputclasses=10).to(device)\n",
        "# if gpu, remove map_location=torch.device('cpu')\n",
        "shadow_pre.load_state_dict(torch.load(\"./models/shadow_CIFAR10.pth\",map_location=torch.device('cpu')))\n",
        "shadow_pre.eval()"
      ],
      "metadata": {
        "id": "NrhBkmQGKH6b"
      },
      "id": "NrhBkmQGKH6b",
      "execution_count": null,
      "outputs": []
    },
    {
      "cell_type": "code",
      "source": [
        "# test if these models are loaded\n",
        "acc_test1 = evaluation(target_pre, testloader, batch_size=64)\n",
        "print(acc_test1)\n",
        "acc_test2 = evaluation(shadow_pre, testloader, batch_size=4)\n",
        "print(acc_test2)"
      ],
      "metadata": {
        "colab": {
          "base_uri": "https://localhost:8080/"
        },
        "id": "6to48RLPQ--x",
        "outputId": "b5588dec-3d66-4b0d-d174-7b623b5ea084"
      },
      "id": "6to48RLPQ--x",
      "execution_count": null,
      "outputs": [
        {
          "output_type": "stream",
          "name": "stdout",
          "text": [
            "tensor(0.9778)\n",
            "tensor(0.9750)\n"
          ]
        }
      ]
    },
    {
      "cell_type": "code",
      "source": [
        "shadow = shadow_pre\n",
        "target = target_pre"
      ],
      "metadata": {
        "id": "CwIqIZUS8mF_"
      },
      "id": "CwIqIZUS8mF_",
      "execution_count": null,
      "outputs": []
    },
    {
      "cell_type": "markdown",
      "source": [
        "#### *Create dataset for attack model*"
      ],
      "metadata": {
        "id": "N6VMvCKcaF9x"
      },
      "id": "N6VMvCKcaF9x"
    },
    {
      "cell_type": "code",
      "source": [
        "# 1. create train dataset for attack model\n",
        "# use shadow model and dataset: out_shadow, train_shadow\n",
        "print('Creating training dataset for attack model:')\n",
        "train_attack_set = get_attackdataset(shadow,shadow_train_loader,shadow_out_loader,device=device)\n",
        "train_attack = attack_dataset(attack_set=train_attack_set,device=device)\n",
        "print('- - - - - - - - - - - - - - - - - - ')\n",
        "print('Creating test dataset for attack model:')\n",
        "# 2. create test dataset for attack model\n",
        "# use target model and dataset: out_target, train_target\n",
        "test_attack_set = get_attackdataset(target,target_train_loader,target_out_loader,device=device)\n",
        "test_attack = attack_dataset(attack_set=test_attack_set,device=device)"
      ],
      "metadata": {
        "colab": {
          "base_uri": "https://localhost:8080/"
        },
        "id": "jBjWSeKC6SiV",
        "outputId": "3c975290-c922-4404-966c-a4eac8868679"
      },
      "id": "jBjWSeKC6SiV",
      "execution_count": null,
      "outputs": [
        {
          "output_type": "stream",
          "name": "stdout",
          "text": [
            "Creating training dataset for attack model:\n",
            "12500\n",
            "12500\n",
            "- - - - - - - - - \n",
            "num of data \n",
            "25000\n",
            "- - - - - - - - - \n",
            "first 10 elements \n",
            "[(tensor([9.9998e-01, 2.1753e-05, 1.4423e-07], device='cuda:0'), tensor([1.])), (tensor([9.9976e-01, 2.3604e-04, 4.8778e-08], device='cuda:0'), tensor([1.])), (tensor([0.8653, 0.1309, 0.0037], device='cuda:0'), tensor([0.])), (tensor([0.5144, 0.3852, 0.1004], device='cuda:0'), tensor([0.])), (tensor([9.9018e-01, 9.1317e-03, 6.8850e-04], device='cuda:0'), tensor([0.])), (tensor([9.9923e-01, 5.6915e-04, 9.7401e-05], device='cuda:0'), tensor([1.])), (tensor([1.0000e+00, 9.0939e-11, 1.6704e-12], device='cuda:0'), tensor([1.])), (tensor([0.4690, 0.3400, 0.1558], device='cuda:0'), tensor([1.])), (tensor([9.9980e-01, 1.9650e-04, 1.5284e-06], device='cuda:0'), tensor([1.]))]\n",
            "- - - - - - - - - - - - - - - - - - \n",
            "Creating test dataset for attack model:\n",
            "12500\n",
            "12500\n",
            "- - - - - - - - - \n",
            "num of data \n",
            "25000\n",
            "- - - - - - - - - \n",
            "first 10 elements \n",
            "[(tensor([1.0000e+00, 1.9674e-06, 3.8971e-07], device='cuda:0'), tensor([1.])), (tensor([0.9216, 0.0404, 0.0379], device='cuda:0'), tensor([0.])), (tensor([9.9637e-01, 3.6284e-03, 5.3966e-13], device='cuda:0'), tensor([0.])), (tensor([9.9995e-01, 5.1412e-05, 8.1931e-12], device='cuda:0'), tensor([1.])), (tensor([1.0000e+00, 1.9516e-18, 9.8825e-20], device='cuda:0'), tensor([0.])), (tensor([1.0000e+00, 5.4938e-08, 2.0401e-09], device='cuda:0'), tensor([0.])), (tensor([0.8358, 0.1589, 0.0053], device='cuda:0'), tensor([0.])), (tensor([9.9992e-01, 7.7437e-05, 1.3825e-08], device='cuda:0'), tensor([1.])), (tensor([9.9861e-01, 1.3943e-03, 2.5307e-07], device='cuda:0'), tensor([1.]))]\n"
          ]
        }
      ]
    },
    {
      "cell_type": "markdown",
      "source": [
        "#### *Attack model 1*"
      ],
      "metadata": {
        "id": "7Lq3iEDFzlUc"
      },
      "id": "7Lq3iEDFzlUc"
    },
    {
      "cell_type": "markdown",
      "source": [
        "##### *Prepare dataset for attack model 1: LGBMClassifier*"
      ],
      "metadata": {
        "id": "3eCw5E-OyYaE"
      },
      "id": "3eCw5E-OyYaE"
    },
    {
      "cell_type": "code",
      "source": [
        "train_feature = []\n",
        "train_label = []\n",
        "for i in train_attack_set:\n",
        "  train_feature.append(i[0].cpu().numpy())\n",
        "  train_label.append(int(i[1]))\n",
        "\n",
        "test_feature = []\n",
        "test_label = []\n",
        "for i in test_attack_set:\n",
        "  test_feature.append(i[0].cpu().numpy())\n",
        "  test_label.append(int(i[1]))"
      ],
      "metadata": {
        "id": "ytIcG63TnXve"
      },
      "id": "ytIcG63TnXve",
      "execution_count": null,
      "outputs": []
    },
    {
      "cell_type": "markdown",
      "source": [
        "##### *Attack model 1: LGBMClassifier and output*"
      ],
      "metadata": {
        "id": "flHPKxCDysfW"
      },
      "id": "flHPKxCDysfW"
    },
    {
      "cell_type": "code",
      "source": [
        "attack_model = lgb.LGBMClassifier(objective='binary', reg_lambda=10, n_estimators=10000)\n",
        "attack_model.fit(train_feature, train_label)\n",
        "predict = attack_model.predict(test_feature)\n",
        "precision_general, recall_general, _, _ = precision_recall_fscore_support(y_pred=predict,y_true=test_label,average=\"binary\")\n",
        "print('End fitting and predicting')\n",
        "print('- - - - - - - - - - - - - - - ')\n",
        "\n",
        "print('result')\n",
        "print('- - - - - - - - - - - - - - - ')\n",
        "print('precision: {:.5f}'.format(precision_general))\n",
        "print('recall: {:.5f}'.format(recall_general))"
      ],
      "metadata": {
        "colab": {
          "base_uri": "https://localhost:8080/"
        },
        "id": "AnxQtLtTnYjt",
        "outputId": "3998073b-a568-4054-c4c3-ce9a1d1c134c"
      },
      "id": "AnxQtLtTnYjt",
      "execution_count": null,
      "outputs": [
        {
          "output_type": "stream",
          "name": "stdout",
          "text": [
            "End fitting and predicting\n",
            "- - - - - - - - - - - - - - - \n",
            "result\n",
            "- - - - - - - - - - - - - - - \n",
            "precision: 0.54766\n",
            "recall: 0.58232\n"
          ]
        }
      ]
    },
    {
      "cell_type": "markdown",
      "source": [
        "#### *Attack model 2*"
      ],
      "metadata": {
        "id": "lA38OaGBzt8J"
      },
      "id": "lA38OaGBzt8J"
    },
    {
      "cell_type": "markdown",
      "source": [
        "Result is not good. Need more tuning or trick. Guess one possible way is to do some transforms on feature vectors such as log."
      ],
      "metadata": {
        "id": "D_WW2lz_1AO0"
      },
      "id": "D_WW2lz_1AO0"
    },
    {
      "cell_type": "markdown",
      "source": [
        "##### *Define a MLP class for attack model 2*"
      ],
      "metadata": {
        "id": "v_EdeM1_i9n4"
      },
      "id": "v_EdeM1_i9n4"
    },
    {
      "cell_type": "code",
      "source": [
        "class MLP(nn.Module):\n",
        "        # 3 features, thus input size=3\n",
        "        # Yes or no, and use sigmoid thus output size=1\n",
        "        # If use softmax, output size = 2\n",
        "        # Loss: cross entropy has contained softmax \n",
        "    def __init__(self, num_of_features=3):\n",
        "        super().__init__()\n",
        "        self.fc1 = nn.Linear(num_of_features, 64)\n",
        "        self.fc2 = nn.Linear(64, 2)\n",
        "        #self.sigmoid = nn.Sigmoid()\n",
        "\n",
        "    def forward(self, x):\n",
        "        # Hidden layer\n",
        "        x = self.fc1(x)\n",
        "        x = self.fc2(x)\n",
        "        x = F.softmax(x,dim=-1)\n",
        "        return x"
      ],
      "metadata": {
        "id": "1zaZadq_i5vp"
      },
      "execution_count": null,
      "outputs": [],
      "id": "1zaZadq_i5vp"
    },
    {
      "cell_type": "markdown",
      "source": [
        "##### *Functions for training and evaluating (attack model 2)*"
      ],
      "metadata": {
        "id": "JVp3m5Cjck1_"
      },
      "id": "JVp3m5Cjck1_"
    },
    {
      "cell_type": "code",
      "source": [
        "def attack_train(model, dataloader, criterion, opt):\n",
        "    running_loss = 0\n",
        "    # switch to model:train\n",
        "    # no difference here since no dropout and BN\n",
        "    model.train()\n",
        "    count = 0\n",
        "    for i, data in tqdm(enumerate(dataloader)):\n",
        "        opt.zero_grad()\n",
        "        imgs, labels = data\n",
        "        imgs = imgs.to(device)\n",
        "        labels = labels.to(device)\n",
        "        predict = model(imgs)\n",
        "        #print(predict.dtype)\n",
        "        #print(labels.dtype)\n",
        "        labels = torch.flatten(labels.long())\n",
        "        #print(predict.shape,labels.shape)\n",
        "        #print(predict)\n",
        "        #print(labels)\n",
        "        loss = criterion(predict, labels)\n",
        "        loss.backward()\n",
        "        opt.step()\n",
        "        count = i\n",
        "        running_loss += loss\n",
        "    return running_loss / count\n",
        "\n",
        "def attack_evaluation(model, dataloader, batch_size=64):\n",
        "    # switch to model:eval\n",
        "    # no difference here since no dropout and BN    \n",
        "    model.eval()\n",
        "    # y_tensorlist is a list consists of some tensors\n",
        "    y_true_tensorlist = []\n",
        "    y_predict_tensorlist = []\n",
        "    for step, (batch_x, batch_y) in enumerate(dataloader):\n",
        "        batch_x,batch_y = batch_x.to(device),batch_y.to(device)\n",
        "        batch_y = torch.flatten(batch_y)\n",
        "        output = model(batch_x)\n",
        "        #output = F.softmax(output,dim=-1)\n",
        "        #print(output)\n",
        "        # compare cols\n",
        "        batch_y_predict = torch.argmax(output, dim=1)\n",
        "        #print(output)        \n",
        "        #zero = torch.zeros_like(output)\n",
        "        #one = torch.ones_like(output)\n",
        "        #batch_y_predict = torch.where(output > 0.5, one, zero)\n",
        "        #print(batch_y_predict)\n",
        "        #print(batch_y_predict)\n",
        "        y_predict_tensorlist.append(batch_y_predict)        \n",
        "        y_true_tensorlist.append(batch_y)\n",
        "        \n",
        "    # combine the tensors in the list into one\n",
        "    y_true = torch.cat(y_true_tensorlist,0)\n",
        "    y_predict = torch.cat(y_predict_tensorlist,0)\n",
        "\n",
        "    # compute accuracy\n",
        "    length = len(y_true)\n",
        "    right_length = torch.sum(y_true == y_predict)\n",
        "    #print(right_length/length)\n",
        "    \n",
        "    return right_length/length,y_true,y_predict\n"
      ],
      "metadata": {
        "id": "bz5VpXofNe4D"
      },
      "execution_count": null,
      "outputs": [],
      "id": "bz5VpXofNe4D"
    },
    {
      "cell_type": "markdown",
      "source": [
        "##### *Train attack model 2*"
      ],
      "metadata": {
        "id": "01pnq0c-cuzU"
      },
      "id": "01pnq0c-cuzU"
    },
    {
      "cell_type": "code",
      "source": [
        "# no gpu, thus device is only cpu\n",
        "device = torch.device('cuda' if torch.cuda.is_available() else 'cpu')\n",
        "# Train attack\n",
        "attack = MLP(num_of_features=3).to(device)\n",
        "# settings\n",
        "#criterion = nn.BCELoss()\n",
        "#criterion = nn.NLLLoss()\n",
        "# crossentropy contains softmax, use other loss\n",
        "criterion = nn.CrossEntropyLoss()\n",
        "#opt = optim.SGD(target.parameters(), lr=0.00001, momentum=0.9)\n",
        "opt = optim.Adam(attack.parameters(), lr=0.001)\n",
        "epoch = 100\n",
        "train_attack_dataloader = DataLoader(dataset=train_attack, batch_size=64, shuffle = True)\n",
        "test_attack_dataloader = DataLoader(dataset=test_attack, batch_size=64, shuffle = True)\n",
        "# train\n",
        "print(\"start training: \")\n",
        "for i in range(epoch):\n",
        "    loss_train = attack_train(attack, train_attack_dataloader, criterion, opt)\n",
        "\n",
        "    print(\"epoch%d   loss: %.5f \"\\\n",
        "      % (i+1, loss_train))\n",
        "torch.save(target.state_dict(), \"./models/attack_MNIST.pth\")"
      ],
      "metadata": {
        "id": "jl-WRwC4DFyY",
        "colab": {
          "base_uri": "https://localhost:8080/"
        },
        "outputId": "9afa3b67-0380-46a1-d81e-bc22e69ba0b5"
      },
      "id": "jl-WRwC4DFyY",
      "execution_count": null,
      "outputs": [
        {
          "output_type": "stream",
          "name": "stdout",
          "text": [
            "start training: \n"
          ]
        },
        {
          "output_type": "stream",
          "name": "stderr",
          "text": [
            "391it [00:01, 200.94it/s]\n"
          ]
        },
        {
          "output_type": "stream",
          "name": "stdout",
          "text": [
            "epoch1   loss: 0.68153 \n"
          ]
        },
        {
          "output_type": "stream",
          "name": "stderr",
          "text": [
            "391it [00:01, 260.41it/s]\n"
          ]
        },
        {
          "output_type": "stream",
          "name": "stdout",
          "text": [
            "epoch2   loss: 0.66934 \n"
          ]
        },
        {
          "output_type": "stream",
          "name": "stderr",
          "text": [
            "391it [00:01, 266.65it/s]\n"
          ]
        },
        {
          "output_type": "stream",
          "name": "stdout",
          "text": [
            "epoch3   loss: 0.66545 \n"
          ]
        },
        {
          "output_type": "stream",
          "name": "stderr",
          "text": [
            "391it [00:01, 258.30it/s]\n"
          ]
        },
        {
          "output_type": "stream",
          "name": "stdout",
          "text": [
            "epoch4   loss: 0.66350 \n"
          ]
        },
        {
          "output_type": "stream",
          "name": "stderr",
          "text": [
            "391it [00:01, 260.37it/s]\n"
          ]
        },
        {
          "output_type": "stream",
          "name": "stdout",
          "text": [
            "epoch5   loss: 0.66240 \n"
          ]
        },
        {
          "output_type": "stream",
          "name": "stderr",
          "text": [
            "391it [00:01, 265.47it/s]\n"
          ]
        },
        {
          "output_type": "stream",
          "name": "stdout",
          "text": [
            "epoch6   loss: 0.66122 \n"
          ]
        },
        {
          "output_type": "stream",
          "name": "stderr",
          "text": [
            "391it [00:01, 259.49it/s]\n"
          ]
        },
        {
          "output_type": "stream",
          "name": "stdout",
          "text": [
            "epoch7   loss: 0.66066 \n"
          ]
        },
        {
          "output_type": "stream",
          "name": "stderr",
          "text": [
            "391it [00:01, 208.74it/s]\n"
          ]
        },
        {
          "output_type": "stream",
          "name": "stdout",
          "text": [
            "epoch8   loss: 0.66025 \n"
          ]
        },
        {
          "output_type": "stream",
          "name": "stderr",
          "text": [
            "391it [00:01, 256.27it/s]\n"
          ]
        },
        {
          "output_type": "stream",
          "name": "stdout",
          "text": [
            "epoch9   loss: 0.65977 \n"
          ]
        },
        {
          "output_type": "stream",
          "name": "stderr",
          "text": [
            "391it [00:01, 263.27it/s]\n"
          ]
        },
        {
          "output_type": "stream",
          "name": "stdout",
          "text": [
            "epoch10   loss: 0.65940 \n"
          ]
        },
        {
          "output_type": "stream",
          "name": "stderr",
          "text": [
            "391it [00:01, 262.98it/s]\n"
          ]
        },
        {
          "output_type": "stream",
          "name": "stdout",
          "text": [
            "epoch11   loss: 0.65925 \n"
          ]
        },
        {
          "output_type": "stream",
          "name": "stderr",
          "text": [
            "391it [00:01, 260.80it/s]\n"
          ]
        },
        {
          "output_type": "stream",
          "name": "stdout",
          "text": [
            "epoch12   loss: 0.65916 \n"
          ]
        },
        {
          "output_type": "stream",
          "name": "stderr",
          "text": [
            "391it [00:01, 258.66it/s]\n"
          ]
        },
        {
          "output_type": "stream",
          "name": "stdout",
          "text": [
            "epoch13   loss: 0.65872 \n"
          ]
        },
        {
          "output_type": "stream",
          "name": "stderr",
          "text": [
            "391it [00:01, 263.51it/s]\n"
          ]
        },
        {
          "output_type": "stream",
          "name": "stdout",
          "text": [
            "epoch14   loss: 0.65898 \n"
          ]
        },
        {
          "output_type": "stream",
          "name": "stderr",
          "text": [
            "391it [00:01, 266.54it/s]\n"
          ]
        },
        {
          "output_type": "stream",
          "name": "stdout",
          "text": [
            "epoch15   loss: 0.65881 \n"
          ]
        },
        {
          "output_type": "stream",
          "name": "stderr",
          "text": [
            "391it [00:01, 261.79it/s]\n"
          ]
        },
        {
          "output_type": "stream",
          "name": "stdout",
          "text": [
            "epoch16   loss: 0.65906 \n"
          ]
        },
        {
          "output_type": "stream",
          "name": "stderr",
          "text": [
            "391it [00:01, 266.44it/s]\n"
          ]
        },
        {
          "output_type": "stream",
          "name": "stdout",
          "text": [
            "epoch17   loss: 0.65888 \n"
          ]
        },
        {
          "output_type": "stream",
          "name": "stderr",
          "text": [
            "391it [00:01, 260.95it/s]\n"
          ]
        },
        {
          "output_type": "stream",
          "name": "stdout",
          "text": [
            "epoch18   loss: 0.65852 \n"
          ]
        },
        {
          "output_type": "stream",
          "name": "stderr",
          "text": [
            "391it [00:01, 263.95it/s]\n"
          ]
        },
        {
          "output_type": "stream",
          "name": "stdout",
          "text": [
            "epoch19   loss: 0.65858 \n"
          ]
        },
        {
          "output_type": "stream",
          "name": "stderr",
          "text": [
            "391it [00:01, 265.79it/s]\n"
          ]
        },
        {
          "output_type": "stream",
          "name": "stdout",
          "text": [
            "epoch20   loss: 0.65840 \n"
          ]
        },
        {
          "output_type": "stream",
          "name": "stderr",
          "text": [
            "391it [00:01, 261.27it/s]\n"
          ]
        },
        {
          "output_type": "stream",
          "name": "stdout",
          "text": [
            "epoch21   loss: 0.65855 \n"
          ]
        },
        {
          "output_type": "stream",
          "name": "stderr",
          "text": [
            "391it [00:01, 266.11it/s]\n"
          ]
        },
        {
          "output_type": "stream",
          "name": "stdout",
          "text": [
            "epoch22   loss: 0.65840 \n"
          ]
        },
        {
          "output_type": "stream",
          "name": "stderr",
          "text": [
            "391it [00:01, 260.10it/s]\n"
          ]
        },
        {
          "output_type": "stream",
          "name": "stdout",
          "text": [
            "epoch23   loss: 0.65837 \n"
          ]
        },
        {
          "output_type": "stream",
          "name": "stderr",
          "text": [
            "391it [00:01, 265.58it/s]\n"
          ]
        },
        {
          "output_type": "stream",
          "name": "stdout",
          "text": [
            "epoch24   loss: 0.65823 \n"
          ]
        },
        {
          "output_type": "stream",
          "name": "stderr",
          "text": [
            "391it [00:01, 265.16it/s]\n"
          ]
        },
        {
          "output_type": "stream",
          "name": "stdout",
          "text": [
            "epoch25   loss: 0.65854 \n"
          ]
        },
        {
          "output_type": "stream",
          "name": "stderr",
          "text": [
            "391it [00:01, 262.85it/s]\n"
          ]
        },
        {
          "output_type": "stream",
          "name": "stdout",
          "text": [
            "epoch26   loss: 0.65853 \n"
          ]
        },
        {
          "output_type": "stream",
          "name": "stderr",
          "text": [
            "391it [00:01, 264.71it/s]\n"
          ]
        },
        {
          "output_type": "stream",
          "name": "stdout",
          "text": [
            "epoch27   loss: 0.65818 \n"
          ]
        },
        {
          "output_type": "stream",
          "name": "stderr",
          "text": [
            "391it [00:01, 263.28it/s]\n"
          ]
        },
        {
          "output_type": "stream",
          "name": "stdout",
          "text": [
            "epoch28   loss: 0.65810 \n"
          ]
        },
        {
          "output_type": "stream",
          "name": "stderr",
          "text": [
            "391it [00:01, 257.29it/s]\n"
          ]
        },
        {
          "output_type": "stream",
          "name": "stdout",
          "text": [
            "epoch29   loss: 0.65824 \n"
          ]
        },
        {
          "output_type": "stream",
          "name": "stderr",
          "text": [
            "391it [00:01, 264.19it/s]\n"
          ]
        },
        {
          "output_type": "stream",
          "name": "stdout",
          "text": [
            "epoch30   loss: 0.65824 \n"
          ]
        },
        {
          "output_type": "stream",
          "name": "stderr",
          "text": [
            "391it [00:01, 262.36it/s]\n"
          ]
        },
        {
          "output_type": "stream",
          "name": "stdout",
          "text": [
            "epoch31   loss: 0.65843 \n"
          ]
        },
        {
          "output_type": "stream",
          "name": "stderr",
          "text": [
            "391it [00:01, 252.14it/s]\n"
          ]
        },
        {
          "output_type": "stream",
          "name": "stdout",
          "text": [
            "epoch32   loss: 0.65853 \n"
          ]
        },
        {
          "output_type": "stream",
          "name": "stderr",
          "text": [
            "391it [00:01, 258.54it/s]\n"
          ]
        },
        {
          "output_type": "stream",
          "name": "stdout",
          "text": [
            "epoch33   loss: 0.65803 \n"
          ]
        },
        {
          "output_type": "stream",
          "name": "stderr",
          "text": [
            "391it [00:01, 258.89it/s]\n"
          ]
        },
        {
          "output_type": "stream",
          "name": "stdout",
          "text": [
            "epoch34   loss: 0.65808 \n"
          ]
        },
        {
          "output_type": "stream",
          "name": "stderr",
          "text": [
            "391it [00:01, 258.09it/s]\n"
          ]
        },
        {
          "output_type": "stream",
          "name": "stdout",
          "text": [
            "epoch35   loss: 0.65816 \n"
          ]
        },
        {
          "output_type": "stream",
          "name": "stderr",
          "text": [
            "391it [00:01, 260.79it/s]\n"
          ]
        },
        {
          "output_type": "stream",
          "name": "stdout",
          "text": [
            "epoch36   loss: 0.65808 \n"
          ]
        },
        {
          "output_type": "stream",
          "name": "stderr",
          "text": [
            "391it [00:01, 265.54it/s]\n"
          ]
        },
        {
          "output_type": "stream",
          "name": "stdout",
          "text": [
            "epoch37   loss: 0.65837 \n"
          ]
        },
        {
          "output_type": "stream",
          "name": "stderr",
          "text": [
            "391it [00:01, 264.21it/s]\n"
          ]
        },
        {
          "output_type": "stream",
          "name": "stdout",
          "text": [
            "epoch38   loss: 0.65813 \n"
          ]
        },
        {
          "output_type": "stream",
          "name": "stderr",
          "text": [
            "391it [00:01, 261.62it/s]\n"
          ]
        },
        {
          "output_type": "stream",
          "name": "stdout",
          "text": [
            "epoch39   loss: 0.65783 \n"
          ]
        },
        {
          "output_type": "stream",
          "name": "stderr",
          "text": [
            "391it [00:01, 255.77it/s]\n"
          ]
        },
        {
          "output_type": "stream",
          "name": "stdout",
          "text": [
            "epoch40   loss: 0.65830 \n"
          ]
        },
        {
          "output_type": "stream",
          "name": "stderr",
          "text": [
            "391it [00:01, 258.99it/s]\n"
          ]
        },
        {
          "output_type": "stream",
          "name": "stdout",
          "text": [
            "epoch41   loss: 0.65816 \n"
          ]
        },
        {
          "output_type": "stream",
          "name": "stderr",
          "text": [
            "391it [00:01, 259.88it/s]\n"
          ]
        },
        {
          "output_type": "stream",
          "name": "stdout",
          "text": [
            "epoch42   loss: 0.65797 \n"
          ]
        },
        {
          "output_type": "stream",
          "name": "stderr",
          "text": [
            "391it [00:01, 265.85it/s]\n"
          ]
        },
        {
          "output_type": "stream",
          "name": "stdout",
          "text": [
            "epoch43   loss: 0.65819 \n"
          ]
        },
        {
          "output_type": "stream",
          "name": "stderr",
          "text": [
            "391it [00:01, 261.42it/s]\n"
          ]
        },
        {
          "output_type": "stream",
          "name": "stdout",
          "text": [
            "epoch44   loss: 0.65850 \n"
          ]
        },
        {
          "output_type": "stream",
          "name": "stderr",
          "text": [
            "391it [00:01, 262.29it/s]\n"
          ]
        },
        {
          "output_type": "stream",
          "name": "stdout",
          "text": [
            "epoch45   loss: 0.65821 \n"
          ]
        },
        {
          "output_type": "stream",
          "name": "stderr",
          "text": [
            "391it [00:01, 258.59it/s]\n"
          ]
        },
        {
          "output_type": "stream",
          "name": "stdout",
          "text": [
            "epoch46   loss: 0.65803 \n"
          ]
        },
        {
          "output_type": "stream",
          "name": "stderr",
          "text": [
            "391it [00:01, 261.05it/s]\n"
          ]
        },
        {
          "output_type": "stream",
          "name": "stdout",
          "text": [
            "epoch47   loss: 0.65798 \n"
          ]
        },
        {
          "output_type": "stream",
          "name": "stderr",
          "text": [
            "391it [00:01, 256.29it/s]\n"
          ]
        },
        {
          "output_type": "stream",
          "name": "stdout",
          "text": [
            "epoch48   loss: 0.65795 \n"
          ]
        },
        {
          "output_type": "stream",
          "name": "stderr",
          "text": [
            "391it [00:01, 261.48it/s]\n"
          ]
        },
        {
          "output_type": "stream",
          "name": "stdout",
          "text": [
            "epoch49   loss: 0.65818 \n"
          ]
        },
        {
          "output_type": "stream",
          "name": "stderr",
          "text": [
            "391it [00:01, 256.95it/s]\n"
          ]
        },
        {
          "output_type": "stream",
          "name": "stdout",
          "text": [
            "epoch50   loss: 0.65811 \n"
          ]
        },
        {
          "output_type": "stream",
          "name": "stderr",
          "text": [
            "391it [00:01, 254.52it/s]\n"
          ]
        },
        {
          "output_type": "stream",
          "name": "stdout",
          "text": [
            "epoch51   loss: 0.65830 \n"
          ]
        },
        {
          "output_type": "stream",
          "name": "stderr",
          "text": [
            "391it [00:01, 254.02it/s]\n"
          ]
        },
        {
          "output_type": "stream",
          "name": "stdout",
          "text": [
            "epoch52   loss: 0.65838 \n"
          ]
        },
        {
          "output_type": "stream",
          "name": "stderr",
          "text": [
            "391it [00:01, 255.55it/s]\n"
          ]
        },
        {
          "output_type": "stream",
          "name": "stdout",
          "text": [
            "epoch53   loss: 0.65791 \n"
          ]
        },
        {
          "output_type": "stream",
          "name": "stderr",
          "text": [
            "391it [00:01, 262.34it/s]\n"
          ]
        },
        {
          "output_type": "stream",
          "name": "stdout",
          "text": [
            "epoch54   loss: 0.65838 \n"
          ]
        },
        {
          "output_type": "stream",
          "name": "stderr",
          "text": [
            "391it [00:01, 258.39it/s]\n"
          ]
        },
        {
          "output_type": "stream",
          "name": "stdout",
          "text": [
            "epoch55   loss: 0.65853 \n"
          ]
        },
        {
          "output_type": "stream",
          "name": "stderr",
          "text": [
            "391it [00:01, 256.83it/s]\n"
          ]
        },
        {
          "output_type": "stream",
          "name": "stdout",
          "text": [
            "epoch56   loss: 0.65823 \n"
          ]
        },
        {
          "output_type": "stream",
          "name": "stderr",
          "text": [
            "391it [00:01, 265.19it/s]\n"
          ]
        },
        {
          "output_type": "stream",
          "name": "stdout",
          "text": [
            "epoch57   loss: 0.65781 \n"
          ]
        },
        {
          "output_type": "stream",
          "name": "stderr",
          "text": [
            "391it [00:01, 258.58it/s]\n"
          ]
        },
        {
          "output_type": "stream",
          "name": "stdout",
          "text": [
            "epoch58   loss: 0.65824 \n"
          ]
        },
        {
          "output_type": "stream",
          "name": "stderr",
          "text": [
            "391it [00:01, 267.43it/s]\n"
          ]
        },
        {
          "output_type": "stream",
          "name": "stdout",
          "text": [
            "epoch59   loss: 0.65795 \n"
          ]
        },
        {
          "output_type": "stream",
          "name": "stderr",
          "text": [
            "391it [00:01, 267.22it/s]\n"
          ]
        },
        {
          "output_type": "stream",
          "name": "stdout",
          "text": [
            "epoch60   loss: 0.65765 \n"
          ]
        },
        {
          "output_type": "stream",
          "name": "stderr",
          "text": [
            "391it [00:01, 264.22it/s]\n"
          ]
        },
        {
          "output_type": "stream",
          "name": "stdout",
          "text": [
            "epoch61   loss: 0.65786 \n"
          ]
        },
        {
          "output_type": "stream",
          "name": "stderr",
          "text": [
            "391it [00:01, 263.71it/s]\n"
          ]
        },
        {
          "output_type": "stream",
          "name": "stdout",
          "text": [
            "epoch62   loss: 0.65814 \n"
          ]
        },
        {
          "output_type": "stream",
          "name": "stderr",
          "text": [
            "391it [00:01, 263.93it/s]\n"
          ]
        },
        {
          "output_type": "stream",
          "name": "stdout",
          "text": [
            "epoch63   loss: 0.65790 \n"
          ]
        },
        {
          "output_type": "stream",
          "name": "stderr",
          "text": [
            "391it [00:01, 267.06it/s]\n"
          ]
        },
        {
          "output_type": "stream",
          "name": "stdout",
          "text": [
            "epoch64   loss: 0.65838 \n"
          ]
        },
        {
          "output_type": "stream",
          "name": "stderr",
          "text": [
            "391it [00:01, 258.38it/s]\n"
          ]
        },
        {
          "output_type": "stream",
          "name": "stdout",
          "text": [
            "epoch65   loss: 0.65781 \n"
          ]
        },
        {
          "output_type": "stream",
          "name": "stderr",
          "text": [
            "391it [00:01, 263.70it/s]\n"
          ]
        },
        {
          "output_type": "stream",
          "name": "stdout",
          "text": [
            "epoch66   loss: 0.65794 \n"
          ]
        },
        {
          "output_type": "stream",
          "name": "stderr",
          "text": [
            "391it [00:01, 263.94it/s]\n"
          ]
        },
        {
          "output_type": "stream",
          "name": "stdout",
          "text": [
            "epoch67   loss: 0.65822 \n"
          ]
        },
        {
          "output_type": "stream",
          "name": "stderr",
          "text": [
            "391it [00:01, 263.94it/s]\n"
          ]
        },
        {
          "output_type": "stream",
          "name": "stdout",
          "text": [
            "epoch68   loss: 0.65787 \n"
          ]
        },
        {
          "output_type": "stream",
          "name": "stderr",
          "text": [
            "391it [00:01, 262.33it/s]\n"
          ]
        },
        {
          "output_type": "stream",
          "name": "stdout",
          "text": [
            "epoch69   loss: 0.65813 \n"
          ]
        },
        {
          "output_type": "stream",
          "name": "stderr",
          "text": [
            "391it [00:01, 224.44it/s]\n"
          ]
        },
        {
          "output_type": "stream",
          "name": "stdout",
          "text": [
            "epoch70   loss: 0.65789 \n"
          ]
        },
        {
          "output_type": "stream",
          "name": "stderr",
          "text": [
            "391it [00:01, 265.32it/s]\n"
          ]
        },
        {
          "output_type": "stream",
          "name": "stdout",
          "text": [
            "epoch71   loss: 0.65829 \n"
          ]
        },
        {
          "output_type": "stream",
          "name": "stderr",
          "text": [
            "391it [00:01, 262.62it/s]\n"
          ]
        },
        {
          "output_type": "stream",
          "name": "stdout",
          "text": [
            "epoch72   loss: 0.65849 \n"
          ]
        },
        {
          "output_type": "stream",
          "name": "stderr",
          "text": [
            "391it [00:01, 262.65it/s]\n"
          ]
        },
        {
          "output_type": "stream",
          "name": "stdout",
          "text": [
            "epoch73   loss: 0.65821 \n"
          ]
        },
        {
          "output_type": "stream",
          "name": "stderr",
          "text": [
            "391it [00:01, 266.05it/s]\n"
          ]
        },
        {
          "output_type": "stream",
          "name": "stdout",
          "text": [
            "epoch74   loss: 0.65811 \n"
          ]
        },
        {
          "output_type": "stream",
          "name": "stderr",
          "text": [
            "391it [00:01, 258.09it/s]\n"
          ]
        },
        {
          "output_type": "stream",
          "name": "stdout",
          "text": [
            "epoch75   loss: 0.65809 \n"
          ]
        },
        {
          "output_type": "stream",
          "name": "stderr",
          "text": [
            "391it [00:01, 265.07it/s]\n"
          ]
        },
        {
          "output_type": "stream",
          "name": "stdout",
          "text": [
            "epoch76   loss: 0.65798 \n"
          ]
        },
        {
          "output_type": "stream",
          "name": "stderr",
          "text": [
            "391it [00:01, 264.23it/s]\n"
          ]
        },
        {
          "output_type": "stream",
          "name": "stdout",
          "text": [
            "epoch77   loss: 0.65814 \n"
          ]
        },
        {
          "output_type": "stream",
          "name": "stderr",
          "text": [
            "391it [00:01, 263.98it/s]\n"
          ]
        },
        {
          "output_type": "stream",
          "name": "stdout",
          "text": [
            "epoch78   loss: 0.65814 \n"
          ]
        },
        {
          "output_type": "stream",
          "name": "stderr",
          "text": [
            "391it [00:01, 255.68it/s]\n"
          ]
        },
        {
          "output_type": "stream",
          "name": "stdout",
          "text": [
            "epoch79   loss: 0.65811 \n"
          ]
        },
        {
          "output_type": "stream",
          "name": "stderr",
          "text": [
            "391it [00:01, 261.83it/s]\n"
          ]
        },
        {
          "output_type": "stream",
          "name": "stdout",
          "text": [
            "epoch80   loss: 0.65801 \n"
          ]
        },
        {
          "output_type": "stream",
          "name": "stderr",
          "text": [
            "391it [00:01, 255.52it/s]\n"
          ]
        },
        {
          "output_type": "stream",
          "name": "stdout",
          "text": [
            "epoch81   loss: 0.65820 \n"
          ]
        },
        {
          "output_type": "stream",
          "name": "stderr",
          "text": [
            "391it [00:01, 260.61it/s]\n"
          ]
        },
        {
          "output_type": "stream",
          "name": "stdout",
          "text": [
            "epoch82   loss: 0.65788 \n"
          ]
        },
        {
          "output_type": "stream",
          "name": "stderr",
          "text": [
            "391it [00:01, 262.84it/s]\n"
          ]
        },
        {
          "output_type": "stream",
          "name": "stdout",
          "text": [
            "epoch83   loss: 0.65818 \n"
          ]
        },
        {
          "output_type": "stream",
          "name": "stderr",
          "text": [
            "391it [00:01, 265.24it/s]\n"
          ]
        },
        {
          "output_type": "stream",
          "name": "stdout",
          "text": [
            "epoch84   loss: 0.65762 \n"
          ]
        },
        {
          "output_type": "stream",
          "name": "stderr",
          "text": [
            "391it [00:01, 264.27it/s]\n"
          ]
        },
        {
          "output_type": "stream",
          "name": "stdout",
          "text": [
            "epoch85   loss: 0.65823 \n"
          ]
        },
        {
          "output_type": "stream",
          "name": "stderr",
          "text": [
            "391it [00:01, 267.38it/s]\n"
          ]
        },
        {
          "output_type": "stream",
          "name": "stdout",
          "text": [
            "epoch86   loss: 0.65794 \n"
          ]
        },
        {
          "output_type": "stream",
          "name": "stderr",
          "text": [
            "391it [00:01, 259.81it/s]\n"
          ]
        },
        {
          "output_type": "stream",
          "name": "stdout",
          "text": [
            "epoch87   loss: 0.65793 \n"
          ]
        },
        {
          "output_type": "stream",
          "name": "stderr",
          "text": [
            "391it [00:01, 251.76it/s]\n"
          ]
        },
        {
          "output_type": "stream",
          "name": "stdout",
          "text": [
            "epoch88   loss: 0.65809 \n"
          ]
        },
        {
          "output_type": "stream",
          "name": "stderr",
          "text": [
            "391it [00:01, 256.21it/s]\n"
          ]
        },
        {
          "output_type": "stream",
          "name": "stdout",
          "text": [
            "epoch89   loss: 0.65799 \n"
          ]
        },
        {
          "output_type": "stream",
          "name": "stderr",
          "text": [
            "391it [00:01, 254.49it/s]\n"
          ]
        },
        {
          "output_type": "stream",
          "name": "stdout",
          "text": [
            "epoch90   loss: 0.65809 \n"
          ]
        },
        {
          "output_type": "stream",
          "name": "stderr",
          "text": [
            "391it [00:01, 254.71it/s]\n"
          ]
        },
        {
          "output_type": "stream",
          "name": "stdout",
          "text": [
            "epoch91   loss: 0.65791 \n"
          ]
        },
        {
          "output_type": "stream",
          "name": "stderr",
          "text": [
            "391it [00:01, 254.39it/s]\n"
          ]
        },
        {
          "output_type": "stream",
          "name": "stdout",
          "text": [
            "epoch92   loss: 0.65800 \n"
          ]
        },
        {
          "output_type": "stream",
          "name": "stderr",
          "text": [
            "391it [00:01, 258.56it/s]\n"
          ]
        },
        {
          "output_type": "stream",
          "name": "stdout",
          "text": [
            "epoch93   loss: 0.65796 \n"
          ]
        },
        {
          "output_type": "stream",
          "name": "stderr",
          "text": [
            "391it [00:01, 262.43it/s]\n"
          ]
        },
        {
          "output_type": "stream",
          "name": "stdout",
          "text": [
            "epoch94   loss: 0.65797 \n"
          ]
        },
        {
          "output_type": "stream",
          "name": "stderr",
          "text": [
            "391it [00:01, 261.47it/s]\n"
          ]
        },
        {
          "output_type": "stream",
          "name": "stdout",
          "text": [
            "epoch95   loss: 0.65776 \n"
          ]
        },
        {
          "output_type": "stream",
          "name": "stderr",
          "text": [
            "391it [00:01, 257.94it/s]\n"
          ]
        },
        {
          "output_type": "stream",
          "name": "stdout",
          "text": [
            "epoch96   loss: 0.65796 \n"
          ]
        },
        {
          "output_type": "stream",
          "name": "stderr",
          "text": [
            "391it [00:01, 255.29it/s]\n"
          ]
        },
        {
          "output_type": "stream",
          "name": "stdout",
          "text": [
            "epoch97   loss: 0.65794 \n"
          ]
        },
        {
          "output_type": "stream",
          "name": "stderr",
          "text": [
            "391it [00:01, 262.11it/s]\n"
          ]
        },
        {
          "output_type": "stream",
          "name": "stdout",
          "text": [
            "epoch98   loss: 0.65786 \n"
          ]
        },
        {
          "output_type": "stream",
          "name": "stderr",
          "text": [
            "391it [00:01, 254.21it/s]\n"
          ]
        },
        {
          "output_type": "stream",
          "name": "stdout",
          "text": [
            "epoch99   loss: 0.65800 \n"
          ]
        },
        {
          "output_type": "stream",
          "name": "stderr",
          "text": [
            "391it [00:01, 255.79it/s]"
          ]
        },
        {
          "output_type": "stream",
          "name": "stdout",
          "text": [
            "epoch100   loss: 0.65801 \n"
          ]
        },
        {
          "output_type": "stream",
          "name": "stderr",
          "text": [
            "\n"
          ]
        }
      ]
    },
    {
      "cell_type": "code",
      "source": [
        "_,y_true,y_predict = attack_evaluation(attack, test_attack_dataloader, batch_size=64)"
      ],
      "metadata": {
        "id": "CzUcoAtnk-Ti"
      },
      "id": "CzUcoAtnk-Ti",
      "execution_count": null,
      "outputs": []
    },
    {
      "cell_type": "code",
      "source": [
        "precision_score(y_true.cpu().numpy(), y_predict.cpu().numpy(), average='binary')"
      ],
      "metadata": {
        "colab": {
          "base_uri": "https://localhost:8080/"
        },
        "id": "yXFxqBgypIX-",
        "outputId": "a39bef8e-a3f8-4105-a7f2-8a69cbbd098a"
      },
      "id": "yXFxqBgypIX-",
      "execution_count": null,
      "outputs": [
        {
          "output_type": "execute_result",
          "data": {
            "text/plain": [
              "0.5682242990654206"
            ]
          },
          "metadata": {},
          "execution_count": 32
        }
      ]
    },
    {
      "cell_type": "code",
      "source": [
        "recall_score(y_true.cpu().numpy(), y_predict.cpu().numpy(), average='binary')"
      ],
      "metadata": {
        "colab": {
          "base_uri": "https://localhost:8080/"
        },
        "id": "0MMSxwNT3CM-",
        "outputId": "3bd49143-05d5-4278-b465-00596dc5aaeb"
      },
      "id": "0MMSxwNT3CM-",
      "execution_count": null,
      "outputs": [
        {
          "output_type": "execute_result",
          "data": {
            "text/plain": [
              "0.80256"
            ]
          },
          "metadata": {},
          "execution_count": 33
        }
      ]
    }
  ],
  "metadata": {
    "kernelspec": {
      "display_name": "Python 3 (ipykernel)",
      "language": "python",
      "name": "python3"
    },
    "language_info": {
      "codemirror_mode": {
        "name": "ipython",
        "version": 3
      },
      "file_extension": ".py",
      "mimetype": "text/x-python",
      "name": "python",
      "nbconvert_exporter": "python",
      "pygments_lexer": "ipython3",
      "version": "3.9.7"
    },
    "colab": {
      "name": "ML_leak_1st_attack_CIFAR10.ipynb",
      "provenance": [],
      "collapsed_sections": []
    },
    "accelerator": "GPU",
    "widgets": {
      "application/vnd.jupyter.widget-state+json": {
        "5e4a4cb0d9454cb381ec8ebd07e6c76a": {
          "model_module": "@jupyter-widgets/controls",
          "model_name": "HBoxModel",
          "model_module_version": "1.5.0",
          "state": {
            "_view_name": "HBoxView",
            "_dom_classes": [],
            "_model_name": "HBoxModel",
            "_view_module": "@jupyter-widgets/controls",
            "_model_module_version": "1.5.0",
            "_view_count": null,
            "_view_module_version": "1.5.0",
            "box_style": "",
            "layout": "IPY_MODEL_144b56abae214808890ce5a287c32ad2",
            "_model_module": "@jupyter-widgets/controls",
            "children": [
              "IPY_MODEL_bd597b09946b40589de7332e6c19c2f5",
              "IPY_MODEL_7798933ce63349cdb643d37a290feb52",
              "IPY_MODEL_bf1f6cfa29eb4b2e81cc524faf09b3cc"
            ]
          }
        },
        "144b56abae214808890ce5a287c32ad2": {
          "model_module": "@jupyter-widgets/base",
          "model_name": "LayoutModel",
          "model_module_version": "1.2.0",
          "state": {
            "_view_name": "LayoutView",
            "grid_template_rows": null,
            "right": null,
            "justify_content": null,
            "_view_module": "@jupyter-widgets/base",
            "overflow": null,
            "_model_module_version": "1.2.0",
            "_view_count": null,
            "flex_flow": null,
            "width": null,
            "min_width": null,
            "border": null,
            "align_items": null,
            "bottom": null,
            "_model_module": "@jupyter-widgets/base",
            "top": null,
            "grid_column": null,
            "overflow_y": null,
            "overflow_x": null,
            "grid_auto_flow": null,
            "grid_area": null,
            "grid_template_columns": null,
            "flex": null,
            "_model_name": "LayoutModel",
            "justify_items": null,
            "grid_row": null,
            "max_height": null,
            "align_content": null,
            "visibility": null,
            "align_self": null,
            "height": null,
            "min_height": null,
            "padding": null,
            "grid_auto_rows": null,
            "grid_gap": null,
            "max_width": null,
            "order": null,
            "_view_module_version": "1.2.0",
            "grid_template_areas": null,
            "object_position": null,
            "object_fit": null,
            "grid_auto_columns": null,
            "margin": null,
            "display": null,
            "left": null
          }
        },
        "bd597b09946b40589de7332e6c19c2f5": {
          "model_module": "@jupyter-widgets/controls",
          "model_name": "HTMLModel",
          "model_module_version": "1.5.0",
          "state": {
            "_view_name": "HTMLView",
            "style": "IPY_MODEL_1d70199cce304db59661499002c96db8",
            "_dom_classes": [],
            "description": "",
            "_model_name": "HTMLModel",
            "placeholder": "​",
            "_view_module": "@jupyter-widgets/controls",
            "_model_module_version": "1.5.0",
            "value": "",
            "_view_count": null,
            "_view_module_version": "1.5.0",
            "description_tooltip": null,
            "_model_module": "@jupyter-widgets/controls",
            "layout": "IPY_MODEL_c1484f209b9e4559aa96ef1b92189447"
          }
        },
        "7798933ce63349cdb643d37a290feb52": {
          "model_module": "@jupyter-widgets/controls",
          "model_name": "FloatProgressModel",
          "model_module_version": "1.5.0",
          "state": {
            "_view_name": "ProgressView",
            "style": "IPY_MODEL_ed0723266d794b299d962991c8e47f72",
            "_dom_classes": [],
            "description": "",
            "_model_name": "FloatProgressModel",
            "bar_style": "success",
            "max": 170498071,
            "_view_module": "@jupyter-widgets/controls",
            "_model_module_version": "1.5.0",
            "value": 170498071,
            "_view_count": null,
            "_view_module_version": "1.5.0",
            "orientation": "horizontal",
            "min": 0,
            "description_tooltip": null,
            "_model_module": "@jupyter-widgets/controls",
            "layout": "IPY_MODEL_393a164745ce48a8aea14eb751cbb3f9"
          }
        },
        "bf1f6cfa29eb4b2e81cc524faf09b3cc": {
          "model_module": "@jupyter-widgets/controls",
          "model_name": "HTMLModel",
          "model_module_version": "1.5.0",
          "state": {
            "_view_name": "HTMLView",
            "style": "IPY_MODEL_c87e422d584e4881bd4b8341b58bc632",
            "_dom_classes": [],
            "description": "",
            "_model_name": "HTMLModel",
            "placeholder": "​",
            "_view_module": "@jupyter-widgets/controls",
            "_model_module_version": "1.5.0",
            "value": " 170499072/? [00:03&lt;00:00, 44932786.52it/s]",
            "_view_count": null,
            "_view_module_version": "1.5.0",
            "description_tooltip": null,
            "_model_module": "@jupyter-widgets/controls",
            "layout": "IPY_MODEL_614681074c3440de919de9875cdf0bd4"
          }
        },
        "1d70199cce304db59661499002c96db8": {
          "model_module": "@jupyter-widgets/controls",
          "model_name": "DescriptionStyleModel",
          "model_module_version": "1.5.0",
          "state": {
            "_view_name": "StyleView",
            "_model_name": "DescriptionStyleModel",
            "description_width": "",
            "_view_module": "@jupyter-widgets/base",
            "_model_module_version": "1.5.0",
            "_view_count": null,
            "_view_module_version": "1.2.0",
            "_model_module": "@jupyter-widgets/controls"
          }
        },
        "c1484f209b9e4559aa96ef1b92189447": {
          "model_module": "@jupyter-widgets/base",
          "model_name": "LayoutModel",
          "model_module_version": "1.2.0",
          "state": {
            "_view_name": "LayoutView",
            "grid_template_rows": null,
            "right": null,
            "justify_content": null,
            "_view_module": "@jupyter-widgets/base",
            "overflow": null,
            "_model_module_version": "1.2.0",
            "_view_count": null,
            "flex_flow": null,
            "width": null,
            "min_width": null,
            "border": null,
            "align_items": null,
            "bottom": null,
            "_model_module": "@jupyter-widgets/base",
            "top": null,
            "grid_column": null,
            "overflow_y": null,
            "overflow_x": null,
            "grid_auto_flow": null,
            "grid_area": null,
            "grid_template_columns": null,
            "flex": null,
            "_model_name": "LayoutModel",
            "justify_items": null,
            "grid_row": null,
            "max_height": null,
            "align_content": null,
            "visibility": null,
            "align_self": null,
            "height": null,
            "min_height": null,
            "padding": null,
            "grid_auto_rows": null,
            "grid_gap": null,
            "max_width": null,
            "order": null,
            "_view_module_version": "1.2.0",
            "grid_template_areas": null,
            "object_position": null,
            "object_fit": null,
            "grid_auto_columns": null,
            "margin": null,
            "display": null,
            "left": null
          }
        },
        "ed0723266d794b299d962991c8e47f72": {
          "model_module": "@jupyter-widgets/controls",
          "model_name": "ProgressStyleModel",
          "model_module_version": "1.5.0",
          "state": {
            "_view_name": "StyleView",
            "_model_name": "ProgressStyleModel",
            "description_width": "",
            "_view_module": "@jupyter-widgets/base",
            "_model_module_version": "1.5.0",
            "_view_count": null,
            "_view_module_version": "1.2.0",
            "bar_color": null,
            "_model_module": "@jupyter-widgets/controls"
          }
        },
        "393a164745ce48a8aea14eb751cbb3f9": {
          "model_module": "@jupyter-widgets/base",
          "model_name": "LayoutModel",
          "model_module_version": "1.2.0",
          "state": {
            "_view_name": "LayoutView",
            "grid_template_rows": null,
            "right": null,
            "justify_content": null,
            "_view_module": "@jupyter-widgets/base",
            "overflow": null,
            "_model_module_version": "1.2.0",
            "_view_count": null,
            "flex_flow": null,
            "width": null,
            "min_width": null,
            "border": null,
            "align_items": null,
            "bottom": null,
            "_model_module": "@jupyter-widgets/base",
            "top": null,
            "grid_column": null,
            "overflow_y": null,
            "overflow_x": null,
            "grid_auto_flow": null,
            "grid_area": null,
            "grid_template_columns": null,
            "flex": null,
            "_model_name": "LayoutModel",
            "justify_items": null,
            "grid_row": null,
            "max_height": null,
            "align_content": null,
            "visibility": null,
            "align_self": null,
            "height": null,
            "min_height": null,
            "padding": null,
            "grid_auto_rows": null,
            "grid_gap": null,
            "max_width": null,
            "order": null,
            "_view_module_version": "1.2.0",
            "grid_template_areas": null,
            "object_position": null,
            "object_fit": null,
            "grid_auto_columns": null,
            "margin": null,
            "display": null,
            "left": null
          }
        },
        "c87e422d584e4881bd4b8341b58bc632": {
          "model_module": "@jupyter-widgets/controls",
          "model_name": "DescriptionStyleModel",
          "model_module_version": "1.5.0",
          "state": {
            "_view_name": "StyleView",
            "_model_name": "DescriptionStyleModel",
            "description_width": "",
            "_view_module": "@jupyter-widgets/base",
            "_model_module_version": "1.5.0",
            "_view_count": null,
            "_view_module_version": "1.2.0",
            "_model_module": "@jupyter-widgets/controls"
          }
        },
        "614681074c3440de919de9875cdf0bd4": {
          "model_module": "@jupyter-widgets/base",
          "model_name": "LayoutModel",
          "model_module_version": "1.2.0",
          "state": {
            "_view_name": "LayoutView",
            "grid_template_rows": null,
            "right": null,
            "justify_content": null,
            "_view_module": "@jupyter-widgets/base",
            "overflow": null,
            "_model_module_version": "1.2.0",
            "_view_count": null,
            "flex_flow": null,
            "width": null,
            "min_width": null,
            "border": null,
            "align_items": null,
            "bottom": null,
            "_model_module": "@jupyter-widgets/base",
            "top": null,
            "grid_column": null,
            "overflow_y": null,
            "overflow_x": null,
            "grid_auto_flow": null,
            "grid_area": null,
            "grid_template_columns": null,
            "flex": null,
            "_model_name": "LayoutModel",
            "justify_items": null,
            "grid_row": null,
            "max_height": null,
            "align_content": null,
            "visibility": null,
            "align_self": null,
            "height": null,
            "min_height": null,
            "padding": null,
            "grid_auto_rows": null,
            "grid_gap": null,
            "max_width": null,
            "order": null,
            "_view_module_version": "1.2.0",
            "grid_template_areas": null,
            "object_position": null,
            "object_fit": null,
            "grid_auto_columns": null,
            "margin": null,
            "display": null,
            "left": null
          }
        }
      }
    }
  },
  "nbformat": 4,
  "nbformat_minor": 5
}